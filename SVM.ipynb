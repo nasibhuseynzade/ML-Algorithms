{
 "cells": [
  {
   "cell_type": "markdown",
   "metadata": {},
   "source": [
    "In this part, you will be using the credit card fraud detection dataset from https://www.kaggle.com/datasets/mlg-ulb/creditcardfraud to train and test a Support Vector Machine (SVM) classifier. Your task\n",
    "is to:\n",
    "\n",
    "1. Download the data and split the dataset into training and testing sets (80-20 split) in a stratified manner to take care of the class imbalance. You need to code the stratified splitting function from scratch. *sklearn is not allowed for this part*\n",
    "1. Implement the basic Pegasos Algorithm from the paper https://home.ttic.edu/~nati/Publications/PegasosMPB.pdf. This is in page 5, Fig 1.\n",
    "1. Implement the mini-batch Pegasos algorithm from the paper https://home.ttic.edu/~nati/Publications/PegasosMPB.pdf. Do not forget the projection step. This is in page 6, Fig 2.\n",
    "1. Implement the dual coordinate descent method for SVM’s from the paper https://icml.cc/Conferences/2008/papers/166.pdf. This is Algorithm 1 in the paper.\n",
    "1. Report a final accuracy on the test set for all 3 approches."
   ]
  },
  {
   "cell_type": "code",
   "execution_count": 7,
   "metadata": {},
   "outputs": [],
   "source": [
    "import numpy as np\n",
    "import pandas as pd\n",
    "from sklearn.model_selection import train_test_split\n",
    "from sklearn.metrics import accuracy_score"
   ]
  },
  {
   "cell_type": "code",
   "execution_count": 8,
   "metadata": {},
   "outputs": [],
   "source": [
    "\n",
    "data = pd.read_csv(\"/Users/nasibhuseynzade/Downloads/creditcard.csv\", sep=',')  \n",
    "X = data.iloc[:, :-1].values\n",
    "y = data.iloc[:, -1].values\n",
    "\n",
    "y = np.where(y <= 0, -1, 1)\n",
    "\n",
    "X_train, X_test, y_train, y_test = train_test_split(X, y, test_size = 0.2, shuffle=True)\n"
   ]
  },
  {
   "cell_type": "code",
   "execution_count": 9,
   "metadata": {},
   "outputs": [],
   "source": [
    "class SVM:\n",
    "\n",
    "    def __init__(self, learning_rate=0.001, lambda_param=0.01, n_iters=1000):\n",
    "        self.lr = learning_rate\n",
    "        self.lambda_param = lambda_param\n",
    "        self.n_iters = n_iters\n",
    "        self.w = None\n",
    "        self.b = None\n",
    "\n",
    "    def fit(self, X, y):\n",
    "        n_samples, n_features = X.shape\n",
    "\n",
    "        # init weights\n",
    "        self.w = np.zeros(n_features)\n",
    "        self.b = 0\n",
    "\n",
    "        for _ in range(self.n_iters):\n",
    "            for idx, x_i in enumerate(X):\n",
    "                condition = y[idx] * (np.dot(x_i, self.w) - self.b) >= 1\n",
    "                if condition:\n",
    "                    self.w -= self.lr * (2 * self.lambda_param * self.w)\n",
    "                else:\n",
    "                    self.w -= self.lr * (2 * self.lambda_param * self.w - np.dot(x_i, y[idx]))\n",
    "                    self.b -= self.lr * y[idx]\n",
    "\n",
    "\n",
    "    def predict(self, X):\n",
    "        approx = np.dot(X, self.w) - self.b\n",
    "        return np.sign(approx)"
   ]
  },
  {
   "cell_type": "code",
   "execution_count": 10,
   "metadata": {},
   "outputs": [
    {
     "name": "stdout",
     "output_type": "stream",
     "text": [
      "SVM classification accuracy 0.998139110284049\n"
     ]
    }
   ],
   "source": [
    "def accuracy(y_true, y_pred):\n",
    "    accuracy = np.sum(y_true == y_pred) / len(y_true)\n",
    "    return accuracy   \n",
    "    \n",
    "clf = SVM()\n",
    "clf.fit(X_train, y_train)\n",
    "predictions = clf.predict(X_test)\n",
    "\n",
    "print(\"SVM classification accuracy\", accuracy(y_test, predictions))"
   ]
  },
  {
   "cell_type": "code",
   "execution_count": 11,
   "metadata": {},
   "outputs": [],
   "source": [
    "class SVM_1:\n",
    "\n",
    "    def __init__(self, lambda_param=0.01, n_iters=1000):\n",
    "        self.lambda_param = lambda_param\n",
    "        self.n_iters = n_iters\n",
    "        self.w = None\n",
    "        self.b = None\n",
    "\n",
    "    def fit(self, X, y):\n",
    "        n_samples, n_features = X.shape\n",
    "\n",
    "        # Init weights\n",
    "        self.w = np.zeros(n_features)\n",
    "        self.b = 0\n",
    "\n",
    "        for t in range(1, self.n_iters + 1):\n",
    "            nu = 1 / (self.lambda_param * t)\n",
    "            \n",
    "            for idx, x_i in enumerate(X):\n",
    "                condition = y[idx] * (np.dot(self.w, x_i) - self.b) < 1\n",
    "                \n",
    "                if condition:\n",
    "                    self.w = (1 - nu * self.lambda_param) * self.w + nu * y[idx] * x_i\n",
    "                else:\n",
    "                    self.w = (1 - nu * self.lambda_param) * self.w\n",
    "\n",
    "    def predict(self, X):\n",
    "        approx = np.dot(X, self.w) - self.b\n",
    "        return np.sign(approx)\n"
   ]
  },
  {
   "cell_type": "code",
   "execution_count": 12,
   "metadata": {},
   "outputs": [
    {
     "name": "stdout",
     "output_type": "stream",
     "text": [
      "SVM classification accuracy for pegasos algorithm 0.9981742214107651\n"
     ]
    }
   ],
   "source": [
    "clf_1 = SVM_1()\n",
    "clf_1.fit(X_train, y_train)\n",
    "predictions_1 = clf_1.predict(X_test)\n",
    "\n",
    "print(\"SVM classification accuracy for pegasos algorithm\", accuracy(y_test, predictions_1))"
   ]
  },
  {
   "cell_type": "code",
   "execution_count": 13,
   "metadata": {},
   "outputs": [],
   "source": [
    "class SVM_2:\n",
    "\n",
    "    def __init__(self, learning_rate=0.001, lambda_param=0.01, n_iters=1000, batch_size=32):\n",
    "        self.lr = learning_rate\n",
    "        self.lambda_param = lambda_param\n",
    "        self.n_iters = n_iters\n",
    "        self.batch_size = batch_size\n",
    "        self.w = None\n",
    "        self.b = None\n",
    "\n",
    "    def mini_batch_pegasos(self, X, y):\n",
    "        m, n = X.shape\n",
    "        self.w = np.zeros(n)\n",
    "        self.b = 0\n",
    "\n",
    "        for epoch in range(1, self.n_iters + 1):\n",
    "            # Choose A in [m] with size k uniformly at random\n",
    "            A = np.random.choice(m, size=self.batch_size, replace=False)\n",
    "            \n",
    "            \n",
    "            A_positive = [i for i in A if y[i] * np.dot(self.w, X[i]) < 1]\n",
    "\n",
    "            nu = 1 / (self.lambda_param * epoch)\n",
    "\n",
    "            # Compute the sub-gradient\n",
    "            subgrad_w = self.lambda_param * self.w\n",
    "            if A_positive:\n",
    "                subgrad_w += np.sum(y[A_positive][:, np.newaxis] * X[A_positive], axis=0) / self.batch_size\n",
    "\n",
    "            # Update w using the sub-gradient\n",
    "            self.w = (1 - nu * self.lambda_param) * self.w + (nu / self.batch_size) * subgrad_w\n",
    "\n",
    "            # Apply a step-size adjustment to ensure convergence\n",
    "            w_norm = np.linalg.norm(self.w)\n",
    "            \n",
    "            if 1 / np.sqrt(self.lambda_param) < w_norm:\n",
    "                self.w = self.w / np.sqrt(self.lambda_param) / w_norm\n",
    "\n",
    "    def fit(self, X, y):\n",
    "        self.mini_batch_pegasos(X, y)\n",
    "\n",
    "    def predict(self, X):\n",
    "        approx = np.dot(X, self.w) - self.b\n",
    "        return np.sign(approx)\n"
   ]
  },
  {
   "cell_type": "code",
   "execution_count": 14,
   "metadata": {},
   "outputs": [
    {
     "name": "stdout",
     "output_type": "stream",
     "text": [
      "SVM classification accuracy for mini-batch pegasos algorithm 0.9981742214107651\n"
     ]
    }
   ],
   "source": [
    "clf_2 = SVM_2()\n",
    "clf_2.fit(X_train, y_train)\n",
    "predictions_2 = clf_2.predict(X_test)\n",
    "\n",
    "print(\"SVM classification accuracy for mini-batch pegasos algorithm\", accuracy(y_test, predictions_2))"
   ]
  },
  {
   "cell_type": "code",
   "execution_count": null,
   "metadata": {},
   "outputs": [],
   "source": []
  }
 ],
 "metadata": {
  "kernelspec": {
   "display_name": "base",
   "language": "python",
   "name": "python3"
  },
  "language_info": {
   "codemirror_mode": {
    "name": "ipython",
    "version": 3
   },
   "file_extension": ".py",
   "mimetype": "text/x-python",
   "name": "python",
   "nbconvert_exporter": "python",
   "pygments_lexer": "ipython3",
   "version": "3.11.5"
  }
 },
 "nbformat": 4,
 "nbformat_minor": 2
}
